{
  "cells": [
    {
      "cell_type": "markdown",
      "metadata": {
        "id": "view-in-github",
        "colab_type": "text"
      },
      "source": [
        "<a href=\"https://colab.research.google.com/github/Jalalbaim/Basic-Optimization-Problems/blob/main/DeeplLabV3.ipynb\" target=\"_parent\"><img src=\"https://colab.research.google.com/assets/colab-badge.svg\" alt=\"Open In Colab\"/></a>"
      ]
    },
    {
      "cell_type": "markdown",
      "metadata": {
        "id": "jcCIU-zQmNPy"
      },
      "source": [
        "# Medical image processing Homework"
      ]
    },
    {
      "cell_type": "code",
      "source": [
        "from google.colab import drive\n",
        "drive.mount('/content/drive')"
      ],
      "metadata": {
        "colab": {
          "base_uri": "https://localhost:8080/"
        },
        "id": "Xl9bt9ClmQbV",
        "outputId": "89d34011-1f5a-4dc5-f29a-90bf9ed34b4c"
      },
      "execution_count": null,
      "outputs": [
        {
          "output_type": "stream",
          "name": "stdout",
          "text": [
            "Drive already mounted at /content/drive; to attempt to forcibly remount, call drive.mount(\"/content/drive\", force_remount=True).\n"
          ]
        }
      ]
    },
    {
      "cell_type": "code",
      "execution_count": null,
      "metadata": {
        "id": "wa7HiOhqmNP5"
      },
      "outputs": [],
      "source": [
        "import numpy as np\n",
        "import matplotlib.pyplot as plt\n",
        "import pandas as pd\n",
        "import os\n",
        "import torch\n",
        "from torch.utils.data import Dataset, DataLoader\n",
        "from torchvision import transforms\n",
        "from PIL import Image\n",
        "import torchvision\n",
        "from torch import nn"
      ]
    },
    {
      "cell_type": "code",
      "source": [
        "# Paths\n",
        "train_img_dir = \"/content/drive/MyDrive/MIP/dataset/train_imgs\"\n",
        "train_label_dir = \"/content/drive/MyDrive/MIP/dataset/train_lbs\"\n",
        "test_img_dir = \"/content/drive/MyDrive/MIP/dataset/test_imgs\""
      ],
      "metadata": {
        "id": "j-pAb5Monl2M"
      },
      "execution_count": null,
      "outputs": []
    },
    {
      "cell_type": "markdown",
      "metadata": {
        "id": "r9M21eDNmNP7"
      },
      "source": [
        "## DataLoader"
      ]
    },
    {
      "cell_type": "code",
      "execution_count": null,
      "metadata": {
        "colab": {
          "base_uri": "https://localhost:8080/"
        },
        "id": "CYWHKa_vmNP8",
        "outputId": "738f408e-59fd-4430-98d8-4767caeb2bad"
      },
      "outputs": [
        {
          "output_type": "stream",
          "name": "stdout",
          "text": [
            "Image batch shape: torch.Size([32, 3, 256, 256])\n",
            "Label batch shape: torch.Size([32, 256, 256])\n"
          ]
        }
      ],
      "source": [
        "\n",
        "\n",
        "transform = transforms.Compose([\n",
        "    transforms.Resize((256, 256)),\n",
        "    transforms.ToTensor()\n",
        "])\n",
        "\n",
        "class train_dataset(Dataset):\n",
        "    def __init__(self, img_dir, label_dir, transform=None):\n",
        "        self.img_dir = img_dir\n",
        "        self.label_dir = label_dir\n",
        "        self.transform = transform\n",
        "        self.images = os.listdir(img_dir)\n",
        "\n",
        "    def __len__(self):\n",
        "        return len(self.images)\n",
        "\n",
        "    def __getitem__(self, idx):\n",
        "        img_name = self.images[idx]\n",
        "        label_name = img_name.replace('.png', '.npy')\n",
        "        img_path = os.path.join(self.img_dir, img_name)\n",
        "        image = Image.open(img_path).convert('RGB')\n",
        "        label_path = os.path.join(self.label_dir, label_name)\n",
        "        label = np.load(label_path)\n",
        "        if self.transform:\n",
        "            image = self.transform(image)\n",
        "\n",
        "        label_resized = Image.fromarray(label).resize((256, 256), resample=Image.NEAREST)\n",
        "        label_tensor = torch.from_numpy(np.array(label_resized)).long()\n",
        "\n",
        "        return image, label_tensor\n",
        "\n",
        "train_data = train_dataset(train_img_dir, train_label_dir, transform=transform)\n",
        "train_loader = DataLoader(train_data, batch_size=32, shuffle=True)\n",
        "\n",
        "for images, labels in train_loader:\n",
        "    print(f'Image batch shape: {images.shape}')\n",
        "    print(f'Label batch shape: {labels.shape}')\n",
        "    break\n"
      ]
    },
    {
      "cell_type": "code",
      "execution_count": null,
      "metadata": {
        "colab": {
          "base_uri": "https://localhost:8080/"
        },
        "id": "dxhXQyv8mNP9",
        "outputId": "16572446-5b27-42b3-aad5-12913f450cdb"
      },
      "outputs": [
        {
          "output_type": "stream",
          "name": "stdout",
          "text": [
            "Image batch shape: torch.Size([32, 3, 256, 256])\n"
          ]
        }
      ],
      "source": [
        "class test_dataset(Dataset):\n",
        "    def __init__(self, img_dir, transform=None):\n",
        "        self.img_dir = img_dir\n",
        "        self.transform = transform\n",
        "        self.images = os.listdir(img_dir)\n",
        "\n",
        "    def __len__(self):\n",
        "        return len(self.images)\n",
        "\n",
        "    def __getitem__(self, idx):\n",
        "        img_name = self.images[idx]\n",
        "        img_path = os.path.join(self.img_dir, img_name)\n",
        "        image = Image.open(img_path).convert('RGB')\n",
        "        if self.transform:\n",
        "            image = self.transform(image)\n",
        "        return image\n",
        "\n",
        "test_data = test_dataset(test_img_dir, transform=transform)\n",
        "test_loader = DataLoader(test_data, batch_size=32, shuffle=False)\n",
        "\n",
        "for images in test_loader:\n",
        "    print(f'Image batch shape: {images.shape}')\n",
        "    break"
      ]
    },
    {
      "cell_type": "markdown",
      "metadata": {
        "id": "BZ7HZL-FmNP-"
      },
      "source": [
        "## Model"
      ]
    },
    {
      "cell_type": "code",
      "execution_count": null,
      "metadata": {
        "id": "1cC_15F1mNP_"
      },
      "outputs": [],
      "source": [
        "# model = torchvision.models.segmentation.deeplabv3_resnet50(pretrained=True)\n",
        "# model.classifier[4] = nn.Conv2d(256, 5, kernel_size=(1, 1))\n",
        "# device = torch.device('cuda' if torch.cuda.is_available() else 'cpu')\n",
        "# print(device)\n",
        "# model = model.to(device)\n",
        "\n",
        "# # Loss and optimizer\n",
        "# criterion = nn.CrossEntropyLoss()\n",
        "# optimizer = torch.optim.Adam(model.parameters(), lr=0.001)\n",
        "\n",
        "# # Training loop\n",
        "# def train_model(model, train_loader, criterion, optimizer, num_epochs=25):\n",
        "#     model.train()\n",
        "#     history = []\n",
        "#     for epoch in range(num_epochs):\n",
        "#         running_loss = 0.0\n",
        "#         for images, labels in train_loader:\n",
        "#             images = images.to(device)\n",
        "#             labels = labels.to(device)\n",
        "\n",
        "#             # Forward pass\n",
        "#             outputs = model(images)['out']\n",
        "#             loss = criterion(outputs, labels)\n",
        "\n",
        "#             # Backward and optimize\n",
        "#             optimizer.zero_grad()\n",
        "#             loss.backward()\n",
        "#             optimizer.step()\n",
        "\n",
        "#             running_loss += loss.item()\n",
        "#         history.append(running_loss)\n",
        "\n",
        "#         print(f'Epoch [{epoch+1}/{num_epochs}], Loss: {running_loss/len(train_loader)}')\n",
        "\n",
        "#     return history\n",
        "\n",
        "\n",
        "# def evaluate_model(model, test_loader):\n",
        "#     model.eval()\n",
        "#     predictions_list = []\n",
        "\n",
        "#     with torch.no_grad():\n",
        "#         for test_images in test_loader:\n",
        "#             test_images = test_images.to(device)\n",
        "\n",
        "#             # Forward pass\n",
        "#             outputs = model(test_images)['out']\n",
        "#             predictions = outputs.argmax(dim=1)\n",
        "\n",
        "#             # Store predictions\n",
        "#             predictions_list.append(predictions.cpu().numpy())\n",
        "\n",
        "#     return predictions_list\n",
        "\n",
        "\n",
        "# history = train_model(model, train_loader, criterion, optimizer, num_epochs=10)\n",
        "\n",
        "# predictions = evaluate_model(model, test_loader)\n",
        "\n",
        "# # for i, pred in enumerate(predictions):\n",
        "# #     for j, single_pred in enumerate(pred):\n",
        "# #         np.save(f'./content/drive/MyDrive/MIP/dataset/predictd/prediction_{i}_{j}.npy', single_pred)\n"
      ]
    },
    {
      "cell_type": "code",
      "source": [
        "model = torchvision.models.segmentation.deeplabv3_resnet50(pretrained=True)\n",
        "model.classifier[4] = nn.Conv2d(256, 5, kernel_size=(1, 1))\n",
        "nn.init.xavier_uniform_(model.classifier[4].weight)  # Initialize the new layer\n",
        "\n",
        "device = torch.device('cuda' if torch.cuda.is_available() else 'cpu')\n",
        "print(device)\n",
        "model = model.to(device)\n",
        "\n",
        "# Loss and optimizer\n",
        "criterion = nn.CrossEntropyLoss()\n",
        "optimizer = torch.optim.Adam(model.parameters(), lr=0.001)\n",
        "\n",
        "# Training loop\n",
        "def train_model(model, train_loader, criterion, optimizer, num_epochs=25):\n",
        "    model.train()\n",
        "    history = []\n",
        "    for epoch in range(num_epochs):\n",
        "        running_loss = 0.0\n",
        "        for images, labels in train_loader:\n",
        "            images = images.to(device)\n",
        "            labels = labels.to(device)\n",
        "\n",
        "            # Forward pass\n",
        "            outputs = model(images)['out']\n",
        "            loss = criterion(outputs, labels)\n",
        "\n",
        "            # Backward and optimize\n",
        "            optimizer.zero_grad()\n",
        "            loss.backward()\n",
        "            optimizer.step()\n",
        "\n",
        "            running_loss += loss.item()\n",
        "\n",
        "        # Append averaged loss for this epoch\n",
        "        epoch_loss = running_loss / len(train_loader)\n",
        "        history.append(epoch_loss)\n",
        "\n",
        "        print(f'Epoch [{epoch+1}/{num_epochs}], Loss: {epoch_loss:.4f}')\n",
        "\n",
        "    return history\n",
        "\n",
        "def evaluate_model(model, test_loader):\n",
        "    model.eval()\n",
        "    predictions_list = []\n",
        "\n",
        "    with torch.no_grad():\n",
        "        for test_images in test_loader:\n",
        "            test_images = test_images.to(device)\n",
        "\n",
        "            # Forward pass\n",
        "            outputs = model(test_images)['out']\n",
        "            predictions = outputs.argmax(dim=1)\n",
        "\n",
        "            # Store predictions\n",
        "            predictions_list.append(predictions.cpu().numpy())\n",
        "\n",
        "    return predictions_list\n",
        "\n",
        "# Plot training history\n",
        "def plot_history(history):\n",
        "    plt.figure(figsize=(10, 5))\n",
        "    plt.plot(history, label='Training Loss')\n",
        "    plt.title('Training Loss History')\n",
        "    plt.xlabel('Epoch')\n",
        "    plt.ylabel('Loss')\n",
        "    plt.legend()\n",
        "    plt.show()\n",
        "\n",
        "# Train the model\n",
        "history = train_model(model, train_loader, criterion, optimizer, num_epochs=10)\n",
        "\n",
        "# Evaluate the model\n",
        "predictions = evaluate_model(model, test_loader)\n",
        "\n",
        "# Plot the history\n",
        "plot_history(history)"
      ],
      "metadata": {
        "colab": {
          "base_uri": "https://localhost:8080/",
          "height": 767
        },
        "id": "CqZZszn_EiWk",
        "outputId": "d3a6cbda-f63d-4f0c-dcf3-9d2e6178f35a"
      },
      "execution_count": null,
      "outputs": [
        {
          "output_type": "stream",
          "name": "stderr",
          "text": [
            "/usr/local/lib/python3.10/dist-packages/torchvision/models/_utils.py:208: UserWarning: The parameter 'pretrained' is deprecated since 0.13 and may be removed in the future, please use 'weights' instead.\n",
            "  warnings.warn(\n",
            "/usr/local/lib/python3.10/dist-packages/torchvision/models/_utils.py:223: UserWarning: Arguments other than a weight enum or `None` for 'weights' are deprecated since 0.13 and may be removed in the future. The current behavior is equivalent to passing `weights=DeepLabV3_ResNet50_Weights.COCO_WITH_VOC_LABELS_V1`. You can also use `weights=DeepLabV3_ResNet50_Weights.DEFAULT` to get the most up-to-date weights.\n",
            "  warnings.warn(msg)\n"
          ]
        },
        {
          "output_type": "stream",
          "name": "stdout",
          "text": [
            "cuda\n",
            "Epoch [1/10], Loss: 0.2709\n",
            "Epoch [2/10], Loss: 0.0543\n",
            "Epoch [3/10], Loss: 0.0343\n",
            "Epoch [4/10], Loss: 0.0260\n",
            "Epoch [5/10], Loss: 0.0212\n",
            "Epoch [6/10], Loss: 0.0180\n",
            "Epoch [7/10], Loss: 0.0159\n",
            "Epoch [8/10], Loss: 0.0149\n",
            "Epoch [9/10], Loss: 0.0133\n",
            "Epoch [10/10], Loss: 0.0122\n"
          ]
        },
        {
          "output_type": "display_data",
          "data": {
            "text/plain": [
              "<Figure size 1000x500 with 1 Axes>"
            ],
            "image/png": "[encoded data removed]"
          },
          "metadata": {}
        }
      ]
    }
  ],
  "metadata": {
    "kernelspec": {
      "display_name": "Python 3",
      "name": "python3"
    },
    "language_info": {
      "codemirror_mode": {
        "name": "ipython",
        "version": 3
      },
      "file_extension": ".py",
      "mimetype": "text/x-python",
      "name": "python",
      "nbconvert_exporter": "python",
      "pygments_lexer": "ipython3",
      "version": "3.11.9"
    },
    "colab": {
      "provenance": [],
      "gpuType": "T4",
      "toc_visible": true,
      "include_colab_link": true
    },
    "accelerator": "GPU"
  },
  "nbformat": 4,
  "nbformat_minor": 0
}